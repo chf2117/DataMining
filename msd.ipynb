{
 "cells": [
  {
   "cell_type": "code",
   "execution_count": 61,
   "metadata": {
    "collapsed": true
   },
   "outputs": [],
   "source": [
    "import tables\n",
    "import hdf5_getters\n",
    "import os\n",
    "import numpy as np\n",
    "import matplotlib.pyplot as plt\n",
    "import sqlite3\n",
    "import gensim"
   ]
  },
  {
   "cell_type": "code",
   "execution_count": 54,
   "metadata": {},
   "outputs": [],
   "source": [
    "'''\n",
    "conn = sqlite3.connect('file:mxm_dataset.db?mode=ro', uri=True)\n",
    "curs = conn.cursor()\n",
    "tracks = dict()\n",
    "for (word, track, count, word_id) in curs.execute(\"SELECT l.word, l.track_id, l.count, w.ROWID FROM lyrics l, words w WHERE w.word=l.word;\"):\n",
    "    if track in tracks:\n",
    "        tracks[track].append((word_id, count))\n",
    "    else:\n",
    "        tracks[track] = [(word_id, count)]\n",
    "words = dict()\n",
    "for (word, word_id) in curs.execute(\"SELECT w.word, w.ROWID FROM words w\"):\n",
    "    words[word_id] = word\n",
    "'''"
   ]
  },
  {
   "cell_type": "code",
   "execution_count": 69,
   "metadata": {},
   "outputs": [],
   "source": [
    "import pickle\n",
    "with open('tracksBow.pickle','rb') as f:\n",
    "    pickle.load(f)\n",
    "with open('id2word.pickle','rb') as f:\n",
    "    pickle.load(f)"
   ]
  },
  {
   "cell_type": "code",
   "execution_count": 32,
   "metadata": {},
   "outputs": [
    {
     "name": "stdout",
     "output_type": "stream",
     "text": [
      "b\"I Didn't Mean To\"\n",
      "b'Casual'\n",
      "[b'hip hop' b'underground rap' b'g funk' b'alternative rap' b'gothic rock'\n",
      " b'west coast rap' b'rap' b'club dance' b'singer-songwriter' b'chill-out'\n",
      " b'underground hip hop' b'rock' b'gothic' b'san francisco bay area'\n",
      " b'indie' b'american' b'punk' b'california' b'industrial' b'new york'\n",
      " b'90s' b'latin' b'spanish' b'dark' b'ebm' b'underground' b'deathrock'\n",
      " b'west coast' b'san francisco' b'producer' b'oakland' b'catalan'\n",
      " b'barcelona' b'doomsdope' b'norcal' b'west coast hip hop'\n",
      " b'alternative rock']\n",
      "0.602119989906\n"
     ]
    }
   ],
   "source": [
    "h5 = hdf5_getters.open_h5_file_read(os.getcwd()+'/MillionSongSubset/data/A/A/A/TRAAAAW128F429D538.h5')\n",
    "duration = hdf5_getters.get_duration(h5)\n",
    "name = hdf5_getters.get_artist_name(h5)\n",
    "terms = hdf5_getters.get_artist_terms(h5)\n",
    "hotttnesss = hdf5_getters.get_song_hotttnesss(h5)\n",
    "title = hdf5_getters.get_title(h5)\n",
    "h5.close()\n",
    "print(title)\n",
    "print(name)\n",
    "print(terms)\n",
    "print(hotttnesss)"
   ]
  },
  {
   "cell_type": "code",
   "execution_count": 39,
   "metadata": {
    "collapsed": true
   },
   "outputs": [],
   "source": [
    "hot = np.zeros([10000])\n",
    "j = 0\n",
    "files = os.listdir(os.getcwd()+'/MillionSongSubset/data/A/A/A/')\n",
    "maxhot = 0\n",
    "for root, dirs, files in os.walk(os.getcwd()+'/MillionSongSubset/data/'):\n",
    "    for f in files:\n",
    "        if os.path.splitext(f)[1]==\".h5\":\n",
    "            h5 = hdf5_getters.open_h5_file_read(os.path.join(root,f))\n",
    "            nSongs = hdf5_getters.get_num_songs(h5)\n",
    "            for i in range(nSongs):\n",
    "                hot[j] = hdf5_getters.get_song_hotttnesss(h5, i)\n",
    "                j = j+1\n",
    "            h5.close()"
   ]
  },
  {
   "cell_type": "code",
   "execution_count": 42,
   "metadata": {},
   "outputs": [
    {
     "name": "stderr",
     "output_type": "stream",
     "text": [
      "/Users/fujimca/anaconda3/lib/python3.6/site-packages/numpy/lib/function_base.py:687: RuntimeWarning: invalid value encountered in greater_equal\n",
      "  keep = (a >= mn)\n",
      "/Users/fujimca/anaconda3/lib/python3.6/site-packages/numpy/lib/function_base.py:688: RuntimeWarning: invalid value encountered in less_equal\n",
      "  keep &= (a <= mx)\n",
      "/Users/fujimca/anaconda3/lib/python3.6/site-packages/numpy/lib/function_base.py:748: RuntimeWarning: invalid value encountered in greater_equal\n",
      "  keep = (tmp_a >= mn)\n",
      "/Users/fujimca/anaconda3/lib/python3.6/site-packages/numpy/lib/function_base.py:749: RuntimeWarning: invalid value encountered in less_equal\n",
      "  keep &= (tmp_a <= mx)\n"
     ]
    },
    {
     "data": {
      "image/png": "[encoded data removed]",
      "text/plain": [
       "<matplotlib.figure.Figure at 0x10611fe10>"
      ]
     },
     "metadata": {},
     "output_type": "display_data"
    }
   ],
   "source": [
    "hotCounts = plt.hist(hot,'auto',(0.0001,1))\n",
    "#plt.plot(edges[0:-1],hotCounts)\n",
    "plt.title(\"Hotttnesss Histogram\")\n",
    "plt.show()"
   ]
  },
  {
   "cell_type": "markdown",
   "metadata": {
    "collapsed": true
   },
   "source": [
    "Use TF-IDF for lyrics"
   ]
  },
  {
   "cell_type": "code",
   "execution_count": 74,
   "metadata": {},
   "outputs": [
    {
     "data": {
      "text/plain": [
       "'TRAAAAV128F421A322'"
      ]
     },
     "execution_count": 74,
     "metadata": {},
     "output_type": "execute_result"
    }
   ],
   "source": [
    "list(tracks.keys())[0]"
   ]
  },
  {
   "cell_type": "code",
   "execution_count": 72,
   "metadata": {},
   "outputs": [],
   "source": [
    "model = gensim.models.TfidfModel(tracks.values())"
   ]
  },
  {
   "cell_type": "code",
   "execution_count": 76,
   "metadata": {},
   "outputs": [],
   "source": [
    "tfidf = dict()\n",
    "for track_id in tracks:\n",
    "    tfidf[track_id] = model[tracks[track_id]]"
   ]
  },
  {
   "cell_type": "code",
   "execution_count": 80,
   "metadata": {},
   "outputs": [
    {
     "name": "stdout",
     "output_type": "stream",
     "text": [
      "i 0.0497405600644\n",
      "the 0.0247467522791\n",
      "you 0.0188693840216\n",
      "to 0.0150215902378\n",
      "and 0.0400639608982\n",
      "a 0.0206914586765\n",
      "me 0.0120640658942\n",
      "it 0.012342985432\n",
      "my 0.0160129990336\n",
      "is 0.023255679851\n",
      "of 0.0410769035195\n",
      "your 0.0191510676028\n",
      "that 0.0160711267695\n",
      "are 0.0405468071023\n",
      "we 0.0535264473592\n",
      "am 0.0463196485049\n",
      "will 0.0426575935355\n",
      "for 0.0788666414513\n",
      "be 0.0216053007991\n",
      "have 0.0445706246475\n",
      "so 0.0218187737609\n",
      "this 0.0267466988417\n",
      "like 0.0585093565718\n",
      "de 0.0604141224455\n",
      "up 0.0314922548262\n",
      "was 0.0724659302454\n",
      "if 0.034975427221\n",
      "got 0.0378319802762\n",
      "would 0.0403301031668\n",
      "been 0.04771966324\n",
      "these 0.127934959469\n",
      "seem 0.0680819428329\n",
      "someon 0.0760834545799\n",
      "understand 0.0784219285356\n",
      "pass 0.0804978570235\n",
      "river 0.1033867098\n",
      "met 0.0973824758252\n",
      "piec 0.100882738654\n",
      "damn 0.0966802753213\n",
      "worth 0.105028977751\n",
      "flesh 0.111165330339\n",
      "grace 0.112091149168\n",
      "poor 0.224971947251\n",
      "somehow 0.11170952054\n",
      "ignor 0.114004787256\n",
      "passion 0.118559754262\n",
      "tide 0.126222159825\n",
      "season 0.124390515578\n",
      "seed 0.123670766961\n",
      "resist 0.127562071386\n",
      "order 0.251128320338\n",
      "piti 0.138000331612\n",
      "fashion 0.140007955635\n",
      "grant 0.138260773484\n",
      "captur 0.294501808126\n",
      "ici 0.146692498335\n",
      "soil 0.152470657739\n",
      "patienc 0.147279134037\n",
      "social 0.303252208996\n",
      "highest 0.309451741173\n",
      "slice 0.157519696404\n",
      "leaf 0.161882572567\n",
      "lifeless 0.168071481466\n",
      "arrang 0.164445604049\n",
      "wilder 0.171487532824\n",
      "shark 0.167764976615\n",
      "devast 0.171278082379\n",
      "element 0.17191144062\n"
     ]
    }
   ],
   "source": [
    "for v in list(tfidf.values())[0]:\n",
    "    print(words[v[0]], v[1])"
   ]
  },
  {
   "cell_type": "code",
   "execution_count": 81,
   "metadata": {
    "collapsed": true
   },
   "outputs": [],
   "source": [
    "with open(\"tfidfModel.pickle\", 'wb') as f:\n",
    "    pickle.dump(model, f)\n",
    "with open(\"tfidfVectors.pickle\", 'wb') as f:\n",
    "    pickle.dump(tfidf, f)"
   ]
  },
  {
   "cell_type": "code",
   "execution_count": null,
   "metadata": {
    "collapsed": true
   },
   "outputs": [],
   "source": []
  }
 ],
 "metadata": {
  "kernelspec": {
   "display_name": "Python 3",
   "language": "python",
   "name": "python3"
  },
  "language_info": {
   "codemirror_mode": {
    "name": "ipython",
    "version": 3
   },
   "file_extension": ".py",
   "mimetype": "text/x-python",
   "name": "python",
   "nbconvert_exporter": "python",
   "pygments_lexer": "ipython3",
   "version": "3.6.3"
  }
 },
 "nbformat": 4,
 "nbformat_minor": 2
}
