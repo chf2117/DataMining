{
 "cells": [
  {
   "cell_type": "code",
   "execution_count": 21,
   "metadata": {
    "collapsed": true
   },
   "outputs": [],
   "source": [
    "import tables\n",
    "import hdf5_getters\n",
    "import os\n",
    "import numpy as np\n",
    "import scipy as sp\n",
    "import matplotlib.pyplot as plt\n",
    "import sqlite3\n",
    "import gensim"
   ]
  },
  {
   "cell_type": "code",
   "execution_count": 6,
   "metadata": {},
   "outputs": [],
   "source": [
    "conn = sqlite3.connect('file:mxm_dataset.db?mode=ro', uri=True)\n",
    "curs = conn.cursor()\n",
    "'''\n",
    "tracks = dict()\n",
    "for (word, track, count, word_id) in curs.execute(\"SELECT l.word, l.track_id, l.count, w.ROWID FROM lyrics l, words w WHERE w.word=l.word;\"):\n",
    "    if track in tracks:\n",
    "        tracks[track].append((word_id, count))\n",
    "    else:\n",
    "        tracks[track] = [(word_id, count)]\n",
    "        '''\n",
    "words = dict()\n",
    "for (word, word_id) in curs.execute(\"SELECT w.word, w.ROWID FROM words w\"):\n",
    "    words[word_id] = word"
   ]
  },
  {
   "cell_type": "code",
   "execution_count": 3,
   "metadata": {
    "collapsed": true
   },
   "outputs": [],
   "source": [
    "import pickle\n",
    "with open('tracksBow.pickle','rb') as f:\n",
    "    tracksbow = pickle.load(f)\n",
    "with open('id2word.pickle','rb') as f:\n",
    "    id2word = pickle.load(f)\n",
    "with open('tfidfVectors.pickle', 'rb') as f:\n",
    "    tfidf = pickle.load(f)"
   ]
  },
  {
   "cell_type": "code",
   "execution_count": 32,
   "metadata": {},
   "outputs": [
    {
     "name": "stdout",
     "output_type": "stream",
     "text": [
      "b\"I Didn't Mean To\"\n",
      "b'Casual'\n",
      "[b'hip hop' b'underground rap' b'g funk' b'alternative rap' b'gothic rock'\n",
      " b'west coast rap' b'rap' b'club dance' b'singer-songwriter' b'chill-out'\n",
      " b'underground hip hop' b'rock' b'gothic' b'san francisco bay area'\n",
      " b'indie' b'american' b'punk' b'california' b'industrial' b'new york'\n",
      " b'90s' b'latin' b'spanish' b'dark' b'ebm' b'underground' b'deathrock'\n",
      " b'west coast' b'san francisco' b'producer' b'oakland' b'catalan'\n",
      " b'barcelona' b'doomsdope' b'norcal' b'west coast hip hop'\n",
      " b'alternative rock']\n",
      "0.602119989906\n"
     ]
    }
   ],
   "source": [
    "h5 = hdf5_getters.open_h5_file_read(os.getcwd()+'/MillionSongSubset/data/A/A/A/TRAAAAW128F429D538.h5')\n",
    "duration = hdf5_getters.get_duration(h5)\n",
    "name = hdf5_getters.get_artist_name(h5)\n",
    "terms = hdf5_getters.get_artist_terms(h5)\n",
    "hotttnesss = hdf5_getters.get_song_hotttnesss(h5)\n",
    "title = hdf5_getters.get_title(h5)\n",
    "h5.close()\n",
    "print(title)\n",
    "print(name)\n",
    "print(terms)\n",
    "print(hotttnesss)"
   ]
  },
  {
   "cell_type": "code",
   "execution_count": 15,
   "metadata": {
    "collapsed": true
   },
   "outputs": [],
   "source": [
    "hot = np.zeros([10000])\n",
    "j = 0\n",
    "files = os.listdir(os.getcwd()+'/MillionSongSubset/data/A/A/A/')\n",
    "for root, dirs, files in os.walk(os.getcwd()+'/MillionSongSubset/data/'):\n",
    "    for f in files:\n",
    "        if os.path.splitext(f)[1]==\".h5\":\n",
    "            h5 = hdf5_getters.open_h5_file_read(os.path.join(root,f))\n",
    "            nSongs = hdf5_getters.get_num_songs(h5)\n",
    "            for i in range(nSongs):\n",
    "                hot[j] = hdf5_getters.get_song_hotttnesss(h5, i)\n",
    "                j = j+1\n",
    "            h5.close()"
   ]
  },
  {
   "cell_type": "code",
   "execution_count": 42,
   "metadata": {},
   "outputs": [
    {
     "name": "stderr",
     "output_type": "stream",
     "text": [
      "/Users/fujimca/anaconda3/lib/python3.6/site-packages/numpy/lib/function_base.py:687: RuntimeWarning: invalid value encountered in greater_equal\n",
      "  keep = (a >= mn)\n",
      "/Users/fujimca/anaconda3/lib/python3.6/site-packages/numpy/lib/function_base.py:688: RuntimeWarning: invalid value encountered in less_equal\n",
      "  keep &= (a <= mx)\n",
      "/Users/fujimca/anaconda3/lib/python3.6/site-packages/numpy/lib/function_base.py:748: RuntimeWarning: invalid value encountered in greater_equal\n",
      "  keep = (tmp_a >= mn)\n",
      "/Users/fujimca/anaconda3/lib/python3.6/site-packages/numpy/lib/function_base.py:749: RuntimeWarning: invalid value encountered in less_equal\n",
      "  keep &= (tmp_a <= mx)\n"
     ]
    },
    {
     "data": {
      "image/png": "[encoded data removed]",
      "text/plain": [
       "<matplotlib.figure.Figure at 0x10611fe10>"
      ]
     },
     "metadata": {},
     "output_type": "display_data"
    }
   ],
   "source": [
    "hotCounts = plt.hist(hot,'auto',(0.0001,1))\n",
    "#plt.plot(edges[0:-1],hotCounts)\n",
    "plt.title(\"Hotttnesss Histogram\")\n",
    "plt.show()"
   ]
  },
  {
   "cell_type": "markdown",
   "metadata": {
    "collapsed": true
   },
   "source": [
    "Use TF-IDF for lyrics"
   ]
  },
  {
   "cell_type": "code",
   "execution_count": 62,
   "metadata": {},
   "outputs": [],
   "source": [
    "hotDict = dict()\n",
    "songId2Ind = dict()\n",
    "j = 0\n",
    "for root, dirs, files in os.walk(os.getcwd()+'/MillionSongSubset/data/'):\n",
    "    for f in files:\n",
    "        if os.path.splitext(f)[1]==\".h5\":\n",
    "            h5 = hdf5_getters.open_h5_file_read(os.path.join(root,f))\n",
    "            nSongs = hdf5_getters.get_num_songs(h5)\n",
    "            for i in range(nSongs):\n",
    "                songid = hdf5_getters.get_track_id(h5, i)\n",
    "                hotDict[songid.decode()] = hdf5_getters.get_song_hotttnesss(h5, i)\n",
    "                songId2Ind[songid.decode()] = j\n",
    "                j = j+1\n",
    "            h5.close()"
   ]
  },
  {
   "cell_type": "code",
   "execution_count": 72,
   "metadata": {
    "collapsed": true
   },
   "outputs": [],
   "source": [
    "model = gensim.models.TfidfModel(tracks.values())"
   ]
  },
  {
   "cell_type": "code",
   "execution_count": 76,
   "metadata": {
    "collapsed": true
   },
   "outputs": [],
   "source": [
    "tfidf = dict()\n",
    "for track_id in tracks:\n",
    "    tfidf[track_id] = model[tracks[track_id]]"
   ]
  },
  {
   "cell_type": "code",
   "execution_count": 14,
   "metadata": {},
   "outputs": [
    {
     "name": "stdout",
     "output_type": "stream",
     "text": [
      "highest 0.309451741173\n",
      "social 0.303252208996\n",
      "captur 0.294501808126\n",
      "order 0.251128320338\n",
      "poor 0.224971947251\n",
      "element 0.17191144062\n",
      "wilder 0.171487532824\n",
      "devast 0.171278082379\n",
      "lifeless 0.168071481466\n",
      "shark 0.167764976615\n",
      "arrang 0.164445604049\n",
      "leaf 0.161882572567\n",
      "slice 0.157519696404\n",
      "soil 0.152470657739\n",
      "patienc 0.147279134037\n",
      "ici 0.146692498335\n",
      "fashion 0.140007955635\n",
      "grant 0.138260773484\n",
      "piti 0.138000331612\n",
      "these 0.127934959469\n",
      "resist 0.127562071386\n",
      "tide 0.126222159825\n",
      "season 0.124390515578\n",
      "seed 0.123670766961\n",
      "passion 0.118559754262\n",
      "ignor 0.114004787256\n",
      "grace 0.112091149168\n",
      "somehow 0.11170952054\n",
      "flesh 0.111165330339\n",
      "worth 0.105028977751\n",
      "river 0.1033867098\n",
      "piec 0.100882738654\n",
      "met 0.0973824758252\n",
      "damn 0.0966802753213\n",
      "pass 0.0804978570235\n",
      "for 0.0788666414513\n",
      "understand 0.0784219285356\n",
      "someon 0.0760834545799\n",
      "was 0.0724659302454\n",
      "seem 0.0680819428329\n",
      "de 0.0604141224455\n",
      "like 0.0585093565718\n",
      "we 0.0535264473592\n",
      "i 0.0497405600644\n",
      "been 0.04771966324\n",
      "am 0.0463196485049\n",
      "have 0.0445706246475\n",
      "will 0.0426575935355\n",
      "of 0.0410769035195\n",
      "are 0.0405468071023\n",
      "would 0.0403301031668\n",
      "and 0.0400639608982\n",
      "got 0.0378319802762\n",
      "if 0.034975427221\n",
      "up 0.0314922548262\n",
      "this 0.0267466988417\n",
      "the 0.0247467522791\n",
      "is 0.023255679851\n",
      "so 0.0218187737609\n",
      "be 0.0216053007991\n",
      "a 0.0206914586765\n",
      "your 0.0191510676028\n",
      "you 0.0188693840216\n",
      "that 0.0160711267695\n",
      "my 0.0160129990336\n",
      "to 0.0150215902378\n",
      "it 0.012342985432\n",
      "me 0.0120640658942\n"
     ]
    }
   ],
   "source": [
    "s1 = list(tfidf.values())[0]\n",
    "for k in sorted(s1, key=lambda x: x[1], reverse=True):\n",
    "    print(words[k[0]], k[1])"
   ]
  },
  {
   "cell_type": "code",
   "execution_count": 63,
   "metadata": {},
   "outputs": [],
   "source": [
    "hotThresh = 0.75\n",
    "hotSongs = {songid: hotDict[songid] for songid in hotDict if hotDict[songid]>hotThresh}\n",
    "hotSongIds = set(hotSongs.keys())\n",
    "lyricsIds = set(tfidf.keys())\n"
   ]
  },
  {
   "cell_type": "code",
   "execution_count": 29,
   "metadata": {},
   "outputs": [],
   "source": [
    "lyricsSim = dict()\n",
    "for songid in hotSongs:\n",
    "    for songid2 in hotSongs:\n",
    "        print(songid)\n",
    "        lyricsSim[(songid, songid2)] = sp.spatial.distance.cosine(tfidf[songid], tfidf[songid2])"
   ]
  },
  {
   "cell_type": "code",
   "execution_count": 16,
   "metadata": {
    "collapsed": true
   },
   "outputs": [],
   "source": [
    "'''\n",
    "with open(\"tfidfModel.pickle\", 'wb') as f:\n",
    "    pickle.dump(model, f)\n",
    "with open(\"tfidfVectors.pickle\", 'wb') as f:\n",
    "    pickle.dump(tfidf, f)\n",
    "with open(\"words.pickle\", 'wb') as f:\n",
    "    pickle.dump(words, f)\n",
    "'''\n",
    "with open(\"subsetHot.pickle\", \"wb\") as f:\n",
    "    pickle.dump(hot, f)"
   ]
  },
  {
   "cell_type": "code",
   "execution_count": 31,
   "metadata": {},
   "outputs": [],
   "source": [
    "simArray = np.array(lyricsSim.values)"
   ]
  },
  {
   "cell_type": "code",
   "execution_count": 64,
   "metadata": {},
   "outputs": [
    {
     "data": {
      "text/plain": [
       "105"
      ]
     },
     "execution_count": 64,
     "metadata": {},
     "output_type": "execute_result"
    }
   ],
   "source": [
    "hotSongIds = set(hotSongs.keys())\n",
    "lyricsIds = set(tfidf.keys())\n",
    "len(set.intersection(hotSongIds,lyricsIds))"
   ]
  },
  {
   "cell_type": "code",
   "execution_count": 51,
   "metadata": {},
   "outputs": [
    {
     "data": {
      "text/plain": [
       "{b'SOAAXAK12A8C13C030',\n",
       " b'SOABLAF12AB018E1D9',\n",
       " b'SOACMGG12AB0189F0D',\n",
       " b'SOARSSE12A58A7BA9A',\n",
       " b'SOAWCYO12A8151DF97',\n",
       " b'SOAYOFO12AF72A4B88',\n",
       " b'SOAZIRE12A6702046F',\n",
       " b'SOBARGP12A58A7B1D9',\n",
       " b'SOBHZOV12AF729E943',\n",
       " b'SOBJCMO12A6D4F756F',\n",
       " b'SOBRZCG12A6702187D',\n",
       " b'SOBVAPJ12AB018739D',\n",
       " b'SOCDRKE12A8C13BF47',\n",
       " b'SOCGOZK12A8151BD5D',\n",
       " b'SOCHBAR12AB0187BA9',\n",
       " b'SOCHDNX12A67ADA90D',\n",
       " b'SOCHUHK12A6D4F7883',\n",
       " b'SOCLAYI12A6310F138',\n",
       " b'SOCOMUU12A6D4F8518',\n",
       " b'SOCOZST12A67020452',\n",
       " b'SOCSLKG12A6D4F5954',\n",
       " b'SOCVOFW12A6D227200',\n",
       " b'SOCWJDB12A58A776AF',\n",
       " b'SOCWZCV12A58A7AB87',\n",
       " b'SOCXBQG12AF72A7CBD',\n",
       " b'SOCXOJF12A6D4FCD91',\n",
       " b'SODBPRG12A81C21AE1',\n",
       " b'SODDXCD12A8C1339AB',\n",
       " b'SODEIVI12A8C13266D',\n",
       " b'SODFSTY12A6701E6D3',\n",
       " b'SODHVES12A6701CE6B',\n",
       " b'SODKJWI12A8151BD74',\n",
       " b'SODKVWC12AF72A53CF',\n",
       " b'SODNQJO12A6310F970',\n",
       " b'SODWXQV12A6310F10D',\n",
       " b'SODWYJZ12AB018240F',\n",
       " b'SODXQTB12A8C13F0F7',\n",
       " b'SODYZIU12A8C13FBD9',\n",
       " b'SOEAXUV12A6D4F8FA2',\n",
       " b'SOECLAD12AAF3B120A',\n",
       " b'SOECRTE12A8C14296D',\n",
       " b'SOEDPQL12AF72AB07B',\n",
       " b'SOEEESC12AB01835B1',\n",
       " b'SOEHISP12AB0188417',\n",
       " b'SOEHTZE12A6310F0F2',\n",
       " b'SOEIQUY12AF72A086A',\n",
       " b'SOEKSGJ12A67AE227E',\n",
       " b'SOENDOQ12A8C139A41',\n",
       " b'SOEORDW12A6D4FB045',\n",
       " b'SOEQXWO12AB017D68B',\n",
       " b'SOESALW12A6D4F7BBD',\n",
       " b'SOESQNH12A58A79AC3',\n",
       " b'SOEZXGQ12AAA8C65E3',\n",
       " b'SOFAOMI12A6D4FA2D8',\n",
       " b'SOFCKEK12A8AE46966',\n",
       " b'SOFDOAD12A58A7BAD3',\n",
       " b'SOFDYGC12A6D4F9059',\n",
       " b'SOFLKHX12A6701C32A',\n",
       " b'SOFRBZI12AB0186AE8',\n",
       " b'SOFRWMT12A8C13604E',\n",
       " b'SOFWODZ12A6701DE58',\n",
       " b'SOFYIQI12A6D4F8D85',\n",
       " b'SOGACRX12A8AE48009',\n",
       " b'SOGAUIQ12A6D4F8262',\n",
       " b'SOGCCDG12AB0180441',\n",
       " b'SOGCDYR12AC961854A',\n",
       " b'SOGDLTS12A8C135A9B',\n",
       " b'SOGJPMB12A8C13A9DB',\n",
       " b'SOGSOTK12A6D4FA596',\n",
       " b'SOHHJYE12A8AE47599',\n",
       " b'SOHJIWJ12AB0184EF9',\n",
       " b'SOHOPAT12A8C1436AC',\n",
       " b'SOHQAKK12A8C131323',\n",
       " b'SOHRKRG12A6310F103',\n",
       " b'SOHSGTX12A67020685',\n",
       " b'SOHWVJJ12AB0185F6D',\n",
       " b'SOIEAJT12A8AE458EC',\n",
       " b'SOIIQRB12A8C1349E9',\n",
       " b'SOINJPD12A6D4F8726',\n",
       " b'SOIOAIN12A58A7A9A5',\n",
       " b'SOISFRK12A6D4F573D',\n",
       " b'SOIXCFZ12A8AE462F5',\n",
       " b'SOIXTNA12AC46882E8',\n",
       " b'SOIZLKI12A6D4F7B61',\n",
       " b'SOJEVZW12A8C133988',\n",
       " b'SOJEZUU12AB018B8C5',\n",
       " b'SOJHUQN12A6D4F8EDE',\n",
       " b'SOJMUAN12AB0183911',\n",
       " b'SOJNQAS12A8C134963',\n",
       " b'SOJPNCH12A67AE0E21',\n",
       " b'SOKASWV12AB01857B5',\n",
       " b'SOKAVYA12AB0188454',\n",
       " b'SOKEGBU12AB017FA3E',\n",
       " b'SOKHYFG12A63110822',\n",
       " b'SOKOTBW12AB018CE2D',\n",
       " b'SOKSSEC12AF72A3D89',\n",
       " b'SOKTJKI12A8C143254',\n",
       " b'SOKYXSZ12A6D4F6E92',\n",
       " b'SOLAWQF12A58A7B176',\n",
       " b'SOLCWWS12AB0188F42',\n",
       " b'SOLICRS12AB0186198',\n",
       " b'SOLJQBW12A6702187B',\n",
       " b'SOLRYQR12A670215BF',\n",
       " b'SOLSJHM12A8C139B46',\n",
       " b'SOLWTDG12A6701E978',\n",
       " b'SOLXDDC12A6701FBFD',\n",
       " b'SOLYLZD12A6D4FB2F5',\n",
       " b'SOLZOBD12AB0185720',\n",
       " b'SOMFBRG12A6D4F9014',\n",
       " b'SOMKGQN12A8C1339D2',\n",
       " b'SOMPGSD12A58A7F840',\n",
       " b'SOMQPCE12AF729A73F',\n",
       " b'SOMRYSL12AB01852A8',\n",
       " b'SOMTYLD12AF72A6883',\n",
       " b'SOMWYRR12A8C143501',\n",
       " b'SONIIAC12A67AD84E5',\n",
       " b'SONJBQX12A6D4F8382',\n",
       " b'SONJMCI12AB018B16A',\n",
       " b'SONPYCF12AB01837AF',\n",
       " b'SONQBUB12A6D4F8ED0',\n",
       " b'SONRWFT12A6D4F983A',\n",
       " b'SONWRPE12A58A7B042',\n",
       " b'SOOBOKE12A8C136227',\n",
       " b'SOOHPYN12A67020C87',\n",
       " b'SOOPVJI12AB0183957',\n",
       " b'SOOQPIK12A6701F1C5',\n",
       " b'SOOXLKF12A6D4F594A',\n",
       " b'SOPANEB12A8C13E81E',\n",
       " b'SOPOPLW12A8C13A905',\n",
       " b'SOPPBPK12A8C14683C',\n",
       " b'SOPRMDL12A8C13CAF6',\n",
       " b'SOPWKOX12A8C139D43',\n",
       " b'SOPWTLC12AB0184E34',\n",
       " b'SOPXTAX12A6D4F573B',\n",
       " b'SOQCQNU12A8C138694',\n",
       " b'SOQELNC12A8C13FE06',\n",
       " b'SOQFNLE12A6701F952',\n",
       " b'SOQGLWB12AF72A632B',\n",
       " b'SOQHWMN12A6701E2D9',\n",
       " b'SOQJPYF12AF72AA8E2',\n",
       " b'SOQLLHX12AF72A3586',\n",
       " b'SOQMWJG12A6701E1AC',\n",
       " b'SOQVXCF12AF72A419B',\n",
       " b'SOQWFLA12AF72A8A63',\n",
       " b'SOQWSGM12A6D4FC3C6',\n",
       " b'SOQXTLG12A6D4FA3E8',\n",
       " b'SORJVDO12AF72A1970',\n",
       " b'SORKFNI12AB018214B',\n",
       " b'SORQTDS12AB0186ED3',\n",
       " b'SOSBPUO12A58291CF2',\n",
       " b'SOSELMV12A6D4FCF5A',\n",
       " b'SOSIVYG12A6D4F93A9',\n",
       " b'SOSXAMA12A8C133298',\n",
       " b'SOSYGHA12AB0186AEC',\n",
       " b'SOSYMSX12A6310DFE2',\n",
       " b'SOTEFFR12A8C144765',\n",
       " b'SOTEZMZ12A8C138355',\n",
       " b'SOTHGTJ12A8C13399D',\n",
       " b'SOTNNLV12A8C1344BF',\n",
       " b'SOTNWCI12AAF3B2028',\n",
       " b'SOTOYAE12A6D4F795E',\n",
       " b'SOTRDVJ12A8C13975E',\n",
       " b'SOTRSHW12A58A79E7C',\n",
       " b'SOTUNMH12A6D4FA3E6',\n",
       " b'SOTWIIY12A6D4F8837',\n",
       " b'SOUCKDH12A8C138FF5',\n",
       " b'SOULTKQ12AB018A183',\n",
       " b'SOUOWOU12AC3DF4CB6',\n",
       " b'SOUSXAY12A8C1358FA',\n",
       " b'SOUTRYP12A8AE46BC6',\n",
       " b'SOUXANT12A6D4FB048',\n",
       " b'SOUXEOI12A6D4FB18E',\n",
       " b'SOUZIIN12AB017FB85',\n",
       " b'SOVFUXP12AB018F6F0',\n",
       " b'SOVGIQD12A6701F668',\n",
       " b'SOVNUCB12A6D4F9F24',\n",
       " b'SOVXUBX12A58A782FD',\n",
       " b'SOWCLTO12A67021CEC',\n",
       " b'SOWEZSI12A81C21CE6',\n",
       " b'SOWFUUS12AB01800E7',\n",
       " b'SOWJCOU12A8C1374EA',\n",
       " b'SOWNZHB12A6701C776',\n",
       " b'SOWONPQ12A8BED02A8',\n",
       " b'SOWPAXV12A67ADA046',\n",
       " b'SOWQTQZ12A58A7B63E',\n",
       " b'SOWSIVF12AB018D3D1',\n",
       " b'SOWTBTR12A6D4F7881',\n",
       " b'SOWXBLE12A6D4F8EE8',\n",
       " b'SOXAUYW12A6D4F7DAB',\n",
       " b'SOXDMAC12AB017E7FF',\n",
       " b'SOXFSTR12A8AE463B0',\n",
       " b'SOYCHDB12A8C13F2C8',\n",
       " b'SOYHHHT12A6D4F7F97',\n",
       " b'SOYINSW12B0B80BEBD',\n",
       " b'SOYIXMY12AF72A0734',\n",
       " b'SOYQXAU12A8C135A75',\n",
       " b'SOYSUZL12A6D4F9005',\n",
       " b'SOYWRWP12AB01845EE',\n",
       " b'SOYYIZT12A8C1408CA',\n",
       " b'SOZEFPO12AB0184AEC',\n",
       " b'SOZIMLB12AF72AD1CD',\n",
       " b'SOZNESJ12A6D4FD187',\n",
       " b'SOZQSGL12AF72A9145',\n",
       " b'SOZQVTJ12A6701D96B',\n",
       " b'SOZTFAZ12A8AE46630'}"
      ]
     },
     "execution_count": 51,
     "metadata": {},
     "output_type": "execute_result"
    }
   ],
   "source": [
    "hotSongIds"
   ]
  },
  {
   "cell_type": "code",
   "execution_count": null,
   "metadata": {
    "collapsed": true
   },
   "outputs": [],
   "source": []
  }
 ],
 "metadata": {
  "kernelspec": {
   "display_name": "Python 3",
   "language": "python",
   "name": "python3"
  },
  "language_info": {
   "codemirror_mode": {
    "name": "ipython",
    "version": 3
   },
   "file_extension": ".py",
   "mimetype": "text/x-python",
   "name": "python",
   "nbconvert_exporter": "python",
   "pygments_lexer": "ipython3",
   "version": "3.6.3"
  }
 },
 "nbformat": 4,
 "nbformat_minor": 2
}
